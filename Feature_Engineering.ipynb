{
 "cells": [
  {
   "cell_type": "markdown",
   "id": "ba7a92f9",
   "metadata": {},
   "source": [
    "# 1. Feature Engineering\n",
    "---"
   ]
  },
  {
   "cell_type": "code",
   "execution_count": 55,
   "id": "94bfa6a0",
   "metadata": {},
   "outputs": [],
   "source": [
    "import typing\n",
    "import numpy as np\n",
    "import pandas as pd\n",
    "from sklearn.preprocessing import OneHotEncoder"
   ]
  },
  {
   "cell_type": "markdown",
   "id": "36e4fd8a",
   "metadata": {},
   "source": [
    "---"
   ]
  },
  {
   "cell_type": "code",
   "execution_count": 56,
   "id": "724c31db",
   "metadata": {},
   "outputs": [],
   "source": [
    "def ordinal(entry: str) -> int:\n",
    "    \"\"\"\n",
    "    Function that transforms Qualitative/Ordinal values into integers \n",
    "    \"\"\"\n",
    "    if entry == \"Not equipped\" or entry == \"To be renovated\":\n",
    "        return 1\n",
    "    elif entry == \"Partially equipped\" or entry == \"Normal\":\n",
    "        return 2\n",
    "    elif entry == \"Fully equipped\" or entry == \"Excellent\":\n",
    "        return 3\n",
    "    elif entry == \"Super equipped\" or entry == \"Fully renovated\":\n",
    "        return 4\n",
    "    elif entry == \"New\":\n",
    "        return 5"
   ]
  },
  {
   "cell_type": "code",
   "execution_count": 57,
   "id": "cde8dab7",
   "metadata": {},
   "outputs": [],
   "source": [
    "def empty_as_one(entry: None) -> int:\n",
    "    \"\"\"\n",
    "    Function that replaces floats with integer and empty values with default value \"1\"\n",
    "    \"\"\"\n",
    "    if pd.isnull(entry):\n",
    "        return 1\n",
    "    else:\n",
    "        return int(entry)"
   ]
  },
  {
   "cell_type": "code",
   "execution_count": 58,
   "id": "9bd61d37",
   "metadata": {},
   "outputs": [],
   "source": [
    "def empty_as_zero(entry: None) -> int:\n",
    "    \"\"\"\n",
    "    Function that replaces object types with integer and empty values with default value \"0\"\n",
    "    \"\"\"\n",
    "    if pd.isnull(entry):\n",
    "        return 0\n",
    "    else:\n",
    "        return int(float(entry))"
   ]
  },
  {
   "cell_type": "markdown",
   "id": "5aa65755",
   "metadata": {},
   "source": [
    "---"
   ]
  },
  {
   "cell_type": "code",
   "execution_count": 59,
   "id": "669e1372",
   "metadata": {
    "scrolled": true
   },
   "outputs": [],
   "source": [
    "df = pd.read_csv(\n",
    "    \"/Users/tonyanciaux/Documents/AI Bootcamp - BeCode/project3_immovlan_analysis/utils/data_cleaned.csv\",\n",
    "    sep=\";\",\n",
    ")"
   ]
  },
  {
   "cell_type": "code",
   "execution_count": 60,
   "id": "a0b52723",
   "metadata": {},
   "outputs": [
    {
     "data": {
      "text/html": [
       "<div>\n",
       "<style scoped>\n",
       "    .dataframe tbody tr th:only-of-type {\n",
       "        vertical-align: middle;\n",
       "    }\n",
       "\n",
       "    .dataframe tbody tr th {\n",
       "        vertical-align: top;\n",
       "    }\n",
       "\n",
       "    .dataframe thead th {\n",
       "        text-align: right;\n",
       "    }\n",
       "</style>\n",
       "<table border=\"1\" class=\"dataframe\">\n",
       "  <thead>\n",
       "    <tr style=\"text-align: right;\">\n",
       "      <th></th>\n",
       "      <th>Unnamed: 0</th>\n",
       "      <th>Locality</th>\n",
       "      <th>Type of property</th>\n",
       "      <th>Subtype of property</th>\n",
       "      <th>Price</th>\n",
       "      <th>Number of bedrooms</th>\n",
       "      <th>Livable surface</th>\n",
       "      <th>Kitchen equipment</th>\n",
       "      <th>Number of bathrooms</th>\n",
       "      <th>Number of toilets</th>\n",
       "      <th>...</th>\n",
       "      <th>Terrace</th>\n",
       "      <th>Surface terrace</th>\n",
       "      <th>Surface bedroom 2</th>\n",
       "      <th>Security door</th>\n",
       "      <th>Access for disabled</th>\n",
       "      <th>Sewer Connection</th>\n",
       "      <th>Garden</th>\n",
       "      <th>Surface garden</th>\n",
       "      <th>Surface bedroom 3</th>\n",
       "      <th>Garage</th>\n",
       "    </tr>\n",
       "  </thead>\n",
       "  <tbody>\n",
       "    <tr>\n",
       "      <th>0</th>\n",
       "      <td>0</td>\n",
       "      <td>1000 Brussels</td>\n",
       "      <td>flat</td>\n",
       "      <td>apartment</td>\n",
       "      <td>333500</td>\n",
       "      <td>2.0</td>\n",
       "      <td>100.0</td>\n",
       "      <td>Super equipped</td>\n",
       "      <td>1</td>\n",
       "      <td>1</td>\n",
       "      <td>...</td>\n",
       "      <td>0</td>\n",
       "      <td>0.0</td>\n",
       "      <td>10,98298429</td>\n",
       "      <td>0</td>\n",
       "      <td>0</td>\n",
       "      <td>1</td>\n",
       "      <td>0</td>\n",
       "      <td>NaN</td>\n",
       "      <td>8,916937566</td>\n",
       "      <td>0</td>\n",
       "    </tr>\n",
       "    <tr>\n",
       "      <th>1</th>\n",
       "      <td>1</td>\n",
       "      <td>1000 Brussels</td>\n",
       "      <td>flat</td>\n",
       "      <td>apartment</td>\n",
       "      <td>379000</td>\n",
       "      <td>1.0</td>\n",
       "      <td>80.0</td>\n",
       "      <td>Super equipped</td>\n",
       "      <td>1</td>\n",
       "      <td>1</td>\n",
       "      <td>...</td>\n",
       "      <td>0</td>\n",
       "      <td>0.0</td>\n",
       "      <td>8,786387434</td>\n",
       "      <td>0</td>\n",
       "      <td>0</td>\n",
       "      <td>1</td>\n",
       "      <td>0</td>\n",
       "      <td>NaN</td>\n",
       "      <td>7,133550053</td>\n",
       "      <td>0</td>\n",
       "    </tr>\n",
       "    <tr>\n",
       "      <th>2</th>\n",
       "      <td>2</td>\n",
       "      <td>1000 Brussels</td>\n",
       "      <td>flat</td>\n",
       "      <td>apartment</td>\n",
       "      <td>295000</td>\n",
       "      <td>2.0</td>\n",
       "      <td>80.0</td>\n",
       "      <td>Partially equipped</td>\n",
       "      <td>1</td>\n",
       "      <td>1</td>\n",
       "      <td>...</td>\n",
       "      <td>1</td>\n",
       "      <td>4.0</td>\n",
       "      <td>8,786387434</td>\n",
       "      <td>0</td>\n",
       "      <td>0</td>\n",
       "      <td>1</td>\n",
       "      <td>0</td>\n",
       "      <td>NaN</td>\n",
       "      <td>7,133550053</td>\n",
       "      <td>0</td>\n",
       "    </tr>\n",
       "    <tr>\n",
       "      <th>3</th>\n",
       "      <td>3</td>\n",
       "      <td>1000 Brussels</td>\n",
       "      <td>flat</td>\n",
       "      <td>loft</td>\n",
       "      <td>635000</td>\n",
       "      <td>2.0</td>\n",
       "      <td>217.0</td>\n",
       "      <td>Super equipped</td>\n",
       "      <td>1</td>\n",
       "      <td>3</td>\n",
       "      <td>...</td>\n",
       "      <td>1</td>\n",
       "      <td>40.0</td>\n",
       "      <td>21</td>\n",
       "      <td>1</td>\n",
       "      <td>1</td>\n",
       "      <td>1</td>\n",
       "      <td>0</td>\n",
       "      <td>NaN</td>\n",
       "      <td>19,34975452</td>\n",
       "      <td>0</td>\n",
       "    </tr>\n",
       "    <tr>\n",
       "      <th>4</th>\n",
       "      <td>4</td>\n",
       "      <td>1000 Brussels</td>\n",
       "      <td>flat</td>\n",
       "      <td>loft</td>\n",
       "      <td>595000</td>\n",
       "      <td>2.0</td>\n",
       "      <td>207.0</td>\n",
       "      <td>Partially equipped</td>\n",
       "      <td>2</td>\n",
       "      <td>2</td>\n",
       "      <td>...</td>\n",
       "      <td>1</td>\n",
       "      <td>10.0</td>\n",
       "      <td>16</td>\n",
       "      <td>0</td>\n",
       "      <td>1</td>\n",
       "      <td>1</td>\n",
       "      <td>0</td>\n",
       "      <td>NaN</td>\n",
       "      <td>18,45806076</td>\n",
       "      <td>0</td>\n",
       "    </tr>\n",
       "  </tbody>\n",
       "</table>\n",
       "<p>5 rows × 35 columns</p>\n",
       "</div>"
      ],
      "text/plain": [
       "   Unnamed: 0       Locality Type of property Subtype of property   Price  \\\n",
       "0           0  1000 Brussels             flat           apartment  333500   \n",
       "1           1  1000 Brussels             flat           apartment  379000   \n",
       "2           2  1000 Brussels             flat           apartment  295000   \n",
       "3           3  1000 Brussels             flat                loft  635000   \n",
       "4           4  1000 Brussels             flat                loft  595000   \n",
       "\n",
       "   Number of bedrooms  Livable surface   Kitchen equipment  \\\n",
       "0                 2.0            100.0      Super equipped   \n",
       "1                 1.0             80.0      Super equipped   \n",
       "2                 2.0             80.0  Partially equipped   \n",
       "3                 2.0            217.0      Super equipped   \n",
       "4                 2.0            207.0  Partially equipped   \n",
       "\n",
       "   Number of bathrooms  Number of toilets  ...  Terrace  Surface terrace  \\\n",
       "0                    1                  1  ...        0              0.0   \n",
       "1                    1                  1  ...        0              0.0   \n",
       "2                    1                  1  ...        1              4.0   \n",
       "3                    1                  3  ...        1             40.0   \n",
       "4                    2                  2  ...        1             10.0   \n",
       "\n",
       "   Surface bedroom 2 Security door  Access for disabled Sewer Connection  \\\n",
       "0        10,98298429             0                    0                1   \n",
       "1        8,786387434             0                    0                1   \n",
       "2        8,786387434             0                    0                1   \n",
       "3                 21             1                    1                1   \n",
       "4                 16             0                    1                1   \n",
       "\n",
       "   Garden Surface garden  Surface bedroom 3 Garage  \n",
       "0       0            NaN        8,916937566      0  \n",
       "1       0            NaN        7,133550053      0  \n",
       "2       0            NaN        7,133550053      0  \n",
       "3       0            NaN        19,34975452      0  \n",
       "4       0            NaN        18,45806076      0  \n",
       "\n",
       "[5 rows x 35 columns]"
      ]
     },
     "execution_count": 60,
     "metadata": {},
     "output_type": "execute_result"
    }
   ],
   "source": [
    "df.head()"
   ]
  },
  {
   "cell_type": "markdown",
   "id": "472ba942",
   "metadata": {},
   "source": [
    "---\n",
    "---"
   ]
  },
  {
   "cell_type": "markdown",
   "id": "804178b1",
   "metadata": {},
   "source": [
    "### Dropping rows"
   ]
  },
  {
   "cell_type": "code",
   "execution_count": 61,
   "id": "3423c89b",
   "metadata": {},
   "outputs": [],
   "source": [
    "#  Merging \"Type of property\" and \"Subtype of property\" & renaming columns\n",
    "\n",
    "df = df.rename(\n",
    "    columns={\n",
    "        \"Surface bedroom 1\": \"Surface master bedroom\",\n",
    "        \"Subtype of property\": \"Property type\",\n",
    "    }\n",
    ")"
   ]
  },
  {
   "cell_type": "code",
   "execution_count": 62,
   "id": "4a400cc3",
   "metadata": {
    "scrolled": true
   },
   "outputs": [],
   "source": [
    "#  Dropping low-value and too strongly correlated columns \n",
    "\n",
    "df = df.drop(\n",
    "    [\n",
    "        \"Unnamed: 0\",\n",
    "        \"Type of property\", \n",
    "        \"Security door\",\n",
    "        \"Sewer Connection\",\n",
    "        \"Access for disabled\",\n",
    "        \"Orientation of the front facade\",\n",
    "        \"Furnished\",\n",
    "        \"Type of property\",\n",
    "        \"Surface bedroom 3\",\n",
    "        \"Surface bedroom 2\",\n",
    "        \"Surface kitchen\",\n",
    "        \"Number of toilets\",\n",
    "        \"Floor of appartment\",\n",
    "        \"Number of floors\",\n",
    "        \"Build Year\",\n",
    "        \"Entry phone\",\n",
    "        \"Elevator\",\n",
    "        \"Number of showers\",\n",
    "        \"Terrace\",\n",
    "        \"Garden\",\n",
    "    ],\n",
    "    axis=1,\n",
    ")"
   ]
  },
  {
   "cell_type": "code",
   "execution_count": 63,
   "id": "9dc81c8e",
   "metadata": {
    "scrolled": false
   },
   "outputs": [
    {
     "name": "stdout",
     "output_type": "stream",
     "text": [
      "Index(['Locality', 'Property type', 'Price', 'Number of bedrooms',\n",
      "       'Livable surface', 'Kitchen equipment', 'Number of bathrooms',\n",
      "       'Balcony', 'State of the property', 'Surface master bedroom',\n",
      "       'Surface of living-room', 'Cellar', 'Number of facades',\n",
      "       'Surface terrace', 'Surface garden', 'Garage'],\n",
      "      dtype='object')\n",
      "Number of columns: 16\n"
     ]
    }
   ],
   "source": [
    "print(df.columns)\n",
    "print(\"Number of columns:\", len(df.columns))"
   ]
  },
  {
   "cell_type": "markdown",
   "id": "7dabbb38",
   "metadata": {},
   "source": [
    "### Categorical Data\n",
    "#### Nominal Data"
   ]
  },
  {
   "cell_type": "code",
   "execution_count": 64,
   "id": "2da10432",
   "metadata": {},
   "outputs": [],
   "source": [
    "nominal_data = df[[\"Locality\", \"Property type\"]].copy()"
   ]
  },
  {
   "cell_type": "code",
   "execution_count": 65,
   "id": "a114bdb6",
   "metadata": {
    "scrolled": true
   },
   "outputs": [
    {
     "data": {
      "text/plain": [
       "1000 Brussels           319\n",
       "1050 Elsene             314\n",
       "1030 Schaarbeek         293\n",
       "8370 Blankenberge       258\n",
       "9300 Aalst              257\n",
       "                       ... \n",
       "4650 Chaineux             1\n",
       "7973 Grandglise           1\n",
       "4632 Cérexhe-Heuseux      1\n",
       "4630 Ayeneux              1\n",
       "5360 Hamois               1\n",
       "Name: Locality, Length: 899, dtype: int64"
      ]
     },
     "execution_count": 65,
     "metadata": {},
     "output_type": "execute_result"
    }
   ],
   "source": [
    "nominal_data[\"Locality\"].value_counts()"
   ]
  },
  {
   "cell_type": "code",
   "execution_count": 66,
   "id": "a6d16e70",
   "metadata": {
    "scrolled": false
   },
   "outputs": [
    {
     "data": {
      "text/plain": [
       "residence         7605\n",
       "apartment         6574\n",
       "villa              858\n",
       "ground-floor       486\n",
       "duplex             447\n",
       "mixed-building     356\n",
       "penthouse          334\n",
       "studio             236\n",
       "master-house       129\n",
       "loft                84\n",
       "cottage             84\n",
       "bungalow            79\n",
       "triplex             36\n",
       "chalet              25\n",
       "mansion             14\n",
       "Name: Property type, dtype: int64"
      ]
     },
     "execution_count": 66,
     "metadata": {},
     "output_type": "execute_result"
    }
   ],
   "source": [
    "nominal_data[\"Property type\"].value_counts()"
   ]
  },
  {
   "cell_type": "markdown",
   "id": "f3f97d37",
   "metadata": {},
   "source": [
    "#### Ordinal Data"
   ]
  },
  {
   "cell_type": "code",
   "execution_count": 67,
   "id": "a71d2bb0",
   "metadata": {},
   "outputs": [],
   "source": [
    "ordinal_data = df[[\"Kitchen equipment\", \"State of the property\"]].copy()"
   ]
  },
  {
   "cell_type": "code",
   "execution_count": 68,
   "id": "4e7f9617",
   "metadata": {
    "scrolled": true
   },
   "outputs": [
    {
     "data": {
      "text/plain": [
       "Partially equipped    10171\n",
       "Super equipped         3905\n",
       "Fully equipped         2745\n",
       "Not equipped            526\n",
       "Name: Kitchen equipment, dtype: int64"
      ]
     },
     "execution_count": 68,
     "metadata": {},
     "output_type": "execute_result"
    }
   ],
   "source": [
    "ordinal_data[\"Kitchen equipment\"].value_counts()"
   ]
  },
  {
   "cell_type": "markdown",
   "id": "d6cbfc59",
   "metadata": {},
   "source": [
    "#### Interpretation: \n",
    "\n",
    "- Super equipped = 4\n",
    "- Fully equipped = 3\n",
    "- Partially equipped = 2\n",
    "- Not equipped = 1"
   ]
  },
  {
   "cell_type": "code",
   "execution_count": 69,
   "id": "56d46a11",
   "metadata": {
    "scrolled": true
   },
   "outputs": [],
   "source": [
    "ordinal_data[\"Kitchen equipment\"] = ordinal_data[\"Kitchen equipment\"].apply(ordinal)"
   ]
  },
  {
   "cell_type": "code",
   "execution_count": 70,
   "id": "8e5e5781",
   "metadata": {},
   "outputs": [],
   "source": [
    "df[\"Kitchen equipment\"] = ordinal_data[\"Kitchen equipment\"]"
   ]
  },
  {
   "cell_type": "code",
   "execution_count": 71,
   "id": "4c09a777",
   "metadata": {},
   "outputs": [
    {
     "data": {
      "text/plain": [
       "2    10171\n",
       "4     3905\n",
       "3     2745\n",
       "1      526\n",
       "Name: Kitchen equipment, dtype: int64"
      ]
     },
     "execution_count": 71,
     "metadata": {},
     "output_type": "execute_result"
    }
   ],
   "source": [
    "df[\"Kitchen equipment\"].value_counts()"
   ]
  },
  {
   "cell_type": "code",
   "execution_count": 72,
   "id": "f1bc3ee7",
   "metadata": {
    "scrolled": false
   },
   "outputs": [
    {
     "data": {
      "text/plain": [
       "Normal             7884\n",
       "New                4550\n",
       "Excellent          2561\n",
       "To be renovated    1975\n",
       "Fully renovated     377\n",
       "Name: State of the property, dtype: int64"
      ]
     },
     "execution_count": 72,
     "metadata": {},
     "output_type": "execute_result"
    }
   ],
   "source": [
    "ordinal_data[\"State of the property\"].value_counts()"
   ]
  },
  {
   "cell_type": "markdown",
   "id": "86568833",
   "metadata": {},
   "source": [
    "#### Interpretation: \n",
    " - New = 5\n",
    " - Fully renovated = 4\n",
    " - Excellent = 3\n",
    " - Normal = 2\n",
    " - To be renovated = 1 "
   ]
  },
  {
   "cell_type": "code",
   "execution_count": 73,
   "id": "dd725a3b",
   "metadata": {},
   "outputs": [],
   "source": [
    "ordinal_data[\"State of the property\"] = ordinal_data[\"State of the property\"].apply(ordinal)"
   ]
  },
  {
   "cell_type": "code",
   "execution_count": 74,
   "id": "61af4eef",
   "metadata": {},
   "outputs": [],
   "source": [
    "df[\"State of the property\"] = ordinal_data[\"State of the property\"]"
   ]
  },
  {
   "cell_type": "code",
   "execution_count": 75,
   "id": "70fcf9ce",
   "metadata": {},
   "outputs": [
    {
     "data": {
      "text/plain": [
       "2    7884\n",
       "5    4550\n",
       "3    2561\n",
       "1    1975\n",
       "4     377\n",
       "Name: State of the property, dtype: int64"
      ]
     },
     "execution_count": 75,
     "metadata": {},
     "output_type": "execute_result"
    }
   ],
   "source": [
    "df[\"State of the property\"].value_counts()"
   ]
  },
  {
   "cell_type": "markdown",
   "id": "20a7ac13",
   "metadata": {},
   "source": [
    "---\n",
    "---"
   ]
  },
  {
   "cell_type": "markdown",
   "id": "6e3f14e8",
   "metadata": {},
   "source": [
    "### Null value"
   ]
  },
  {
   "cell_type": "code",
   "execution_count": 76,
   "id": "433eebc3",
   "metadata": {},
   "outputs": [
    {
     "name": "stdout",
     "output_type": "stream",
     "text": [
      "<class 'pandas.core.frame.DataFrame'>\n",
      "RangeIndex: 17347 entries, 0 to 17346\n",
      "Data columns (total 16 columns):\n",
      " #   Column                  Non-Null Count  Dtype  \n",
      "---  ------                  --------------  -----  \n",
      " 0   Locality                17347 non-null  object \n",
      " 1   Property type           17347 non-null  object \n",
      " 2   Price                   17347 non-null  int64  \n",
      " 3   Number of bedrooms      16894 non-null  float64\n",
      " 4   Livable surface         15419 non-null  float64\n",
      " 5   Kitchen equipment       17347 non-null  int64  \n",
      " 6   Number of bathrooms     17347 non-null  int64  \n",
      " 7   Balcony                 17347 non-null  int64  \n",
      " 8   State of the property   17347 non-null  int64  \n",
      " 9   Surface master bedroom  15591 non-null  object \n",
      " 10  Surface of living-room  15624 non-null  object \n",
      " 11  Cellar                  17347 non-null  int64  \n",
      " 12  Number of facades       17347 non-null  int64  \n",
      " 13  Surface terrace         16452 non-null  float64\n",
      " 14  Surface garden          2700 non-null   float64\n",
      " 15  Garage                  17347 non-null  int64  \n",
      "dtypes: float64(4), int64(8), object(4)\n",
      "memory usage: 2.1+ MB\n"
     ]
    }
   ],
   "source": [
    "df.info()"
   ]
  },
  {
   "cell_type": "code",
   "execution_count": 77,
   "id": "f8b6474c",
   "metadata": {},
   "outputs": [],
   "source": [
    "#  Duplicate the column with empty values into a new dataframe as a safety net\n",
    "null_value = df[\n",
    "    [\n",
    "        \"Number of bedrooms\",\n",
    "        \"Livable surface\",\n",
    "        \"Surface master bedroom\",\n",
    "        \"Surface of living-room\",\n",
    "        \"Surface terrace\",\n",
    "        \"Surface garden\",\n",
    "    ]\n",
    "].copy()"
   ]
  },
  {
   "cell_type": "markdown",
   "id": "afb85cbf",
   "metadata": {},
   "source": [
    "---"
   ]
  },
  {
   "cell_type": "code",
   "execution_count": 78,
   "id": "12775878",
   "metadata": {
    "scrolled": false
   },
   "outputs": [
    {
     "data": {
      "text/plain": [
       "2.0      5794\n",
       "3.0      5671\n",
       "4.0      2181\n",
       "1.0      1905\n",
       "5.0       780\n",
       "6.0       324\n",
       "7.0       103\n",
       "8.0        54\n",
       "9.0        22\n",
       "10.0       17\n",
       "12.0       12\n",
       "11.0       10\n",
       "14.0        8\n",
       "16.0        4\n",
       "20.0        3\n",
       "13.0        1\n",
       "40.0        1\n",
       "23.0        1\n",
       "22.0        1\n",
       "15.0        1\n",
       "333.0       1\n",
       "Name: Number of bedrooms, dtype: int64"
      ]
     },
     "execution_count": 78,
     "metadata": {},
     "output_type": "execute_result"
    }
   ],
   "source": [
    "df[\"Number of bedrooms\"].value_counts()"
   ]
  },
  {
   "cell_type": "code",
   "execution_count": 79,
   "id": "5832f2a7",
   "metadata": {
    "scrolled": true
   },
   "outputs": [],
   "source": [
    "null_value[\"Number of bedrooms\"] = null_value[\"Number of bedrooms\"].apply(empty_as_one)"
   ]
  },
  {
   "cell_type": "code",
   "execution_count": 80,
   "id": "84723964",
   "metadata": {},
   "outputs": [],
   "source": [
    "df[\"Number of bedrooms\"] = null_value[\"Number of bedrooms\"]"
   ]
  },
  {
   "cell_type": "code",
   "execution_count": 81,
   "id": "1c676f2c",
   "metadata": {
    "scrolled": true
   },
   "outputs": [
    {
     "data": {
      "text/html": [
       "<div>\n",
       "<style scoped>\n",
       "    .dataframe tbody tr th:only-of-type {\n",
       "        vertical-align: middle;\n",
       "    }\n",
       "\n",
       "    .dataframe tbody tr th {\n",
       "        vertical-align: top;\n",
       "    }\n",
       "\n",
       "    .dataframe thead th {\n",
       "        text-align: right;\n",
       "    }\n",
       "</style>\n",
       "<table border=\"1\" class=\"dataframe\">\n",
       "  <thead>\n",
       "    <tr style=\"text-align: right;\">\n",
       "      <th></th>\n",
       "      <th>Locality</th>\n",
       "      <th>Property type</th>\n",
       "      <th>Price</th>\n",
       "      <th>Number of bedrooms</th>\n",
       "      <th>Livable surface</th>\n",
       "      <th>Kitchen equipment</th>\n",
       "      <th>Number of bathrooms</th>\n",
       "      <th>Balcony</th>\n",
       "      <th>State of the property</th>\n",
       "      <th>Surface master bedroom</th>\n",
       "      <th>Surface of living-room</th>\n",
       "      <th>Cellar</th>\n",
       "      <th>Number of facades</th>\n",
       "      <th>Surface terrace</th>\n",
       "      <th>Surface garden</th>\n",
       "      <th>Garage</th>\n",
       "    </tr>\n",
       "  </thead>\n",
       "  <tbody>\n",
       "    <tr>\n",
       "      <th>4374</th>\n",
       "      <td>2000 Antwerp</td>\n",
       "      <td>residence</td>\n",
       "      <td>7000000</td>\n",
       "      <td>40</td>\n",
       "      <td>NaN</td>\n",
       "      <td>2</td>\n",
       "      <td>1</td>\n",
       "      <td>0</td>\n",
       "      <td>5</td>\n",
       "      <td>NaN</td>\n",
       "      <td>NaN</td>\n",
       "      <td>0</td>\n",
       "      <td>4</td>\n",
       "      <td>NaN</td>\n",
       "      <td>NaN</td>\n",
       "      <td>0</td>\n",
       "    </tr>\n",
       "    <tr>\n",
       "      <th>14552</th>\n",
       "      <td>8650 Houthulst</td>\n",
       "      <td>residence</td>\n",
       "      <td>195000</td>\n",
       "      <td>333</td>\n",
       "      <td>155.0</td>\n",
       "      <td>2</td>\n",
       "      <td>1</td>\n",
       "      <td>0</td>\n",
       "      <td>2</td>\n",
       "      <td>21,03009192</td>\n",
       "      <td>45,40042113</td>\n",
       "      <td>0</td>\n",
       "      <td>2</td>\n",
       "      <td>0.0</td>\n",
       "      <td>NaN</td>\n",
       "      <td>1</td>\n",
       "    </tr>\n",
       "  </tbody>\n",
       "</table>\n",
       "</div>"
      ],
      "text/plain": [
       "             Locality Property type    Price  Number of bedrooms  \\\n",
       "4374     2000 Antwerp     residence  7000000                  40   \n",
       "14552  8650 Houthulst     residence   195000                 333   \n",
       "\n",
       "       Livable surface  Kitchen equipment  Number of bathrooms  Balcony  \\\n",
       "4374               NaN                  2                    1        0   \n",
       "14552            155.0                  2                    1        0   \n",
       "\n",
       "       State of the property Surface master bedroom Surface of living-room  \\\n",
       "4374                       5                    NaN                    NaN   \n",
       "14552                      2            21,03009192            45,40042113   \n",
       "\n",
       "       Cellar  Number of facades  Surface terrace  Surface garden  Garage  \n",
       "4374        0                  4              NaN             NaN       0  \n",
       "14552       0                  2              0.0             NaN       1  "
      ]
     },
     "execution_count": 81,
     "metadata": {},
     "output_type": "execute_result"
    }
   ],
   "source": [
    "df_filtered = df[df['Number of bedrooms'] >= 40]\n",
    "df_filtered.head()"
   ]
  },
  {
   "cell_type": "code",
   "execution_count": 82,
   "id": "3315d078",
   "metadata": {},
   "outputs": [],
   "source": [
    "df = df.drop(df_filtered.index)"
   ]
  },
  {
   "cell_type": "markdown",
   "id": "5c2185f8",
   "metadata": {},
   "source": [
    "---"
   ]
  },
  {
   "cell_type": "code",
   "execution_count": 83,
   "id": "72084cd7",
   "metadata": {
    "scrolled": true
   },
   "outputs": [
    {
     "data": {
      "text/plain": [
       "0.0       9824\n",
       "10.0       378\n",
       "20.0       365\n",
       "8.0        339\n",
       "15.0       317\n",
       "          ... \n",
       "112.0        1\n",
       "340.0        1\n",
       "1050.0       1\n",
       "135.0        1\n",
       "537.0        1\n",
       "Name: Surface terrace, Length: 146, dtype: int64"
      ]
     },
     "execution_count": 83,
     "metadata": {},
     "output_type": "execute_result"
    }
   ],
   "source": [
    "null_value[\"Surface terrace\"].value_counts()"
   ]
  },
  {
   "cell_type": "code",
   "execution_count": 84,
   "id": "01b6073b",
   "metadata": {},
   "outputs": [],
   "source": [
    "null_value[\"Surface terrace\"] = null_value[\"Surface terrace\"].apply(empty_as_zero)"
   ]
  },
  {
   "cell_type": "code",
   "execution_count": 85,
   "id": "08d864e4",
   "metadata": {},
   "outputs": [],
   "source": [
    "df[\"Surface terrace\"] = null_value[\"Surface terrace\"]"
   ]
  },
  {
   "cell_type": "code",
   "execution_count": 86,
   "id": "40898779",
   "metadata": {},
   "outputs": [
    {
     "data": {
      "text/plain": [
       "100.0     71\n",
       "50.0      67\n",
       "200.0     62\n",
       "40.0      49\n",
       "300.0     48\n",
       "          ..\n",
       "372.0      1\n",
       "453.0      1\n",
       "381.0      1\n",
       "368.0      1\n",
       "2940.0     1\n",
       "Name: Surface garden, Length: 677, dtype: int64"
      ]
     },
     "execution_count": 86,
     "metadata": {},
     "output_type": "execute_result"
    }
   ],
   "source": [
    "null_value[\"Surface garden\"].value_counts()"
   ]
  },
  {
   "cell_type": "code",
   "execution_count": 87,
   "id": "0cbff5e9",
   "metadata": {},
   "outputs": [],
   "source": [
    "null_value[\"Surface garden\"] = null_value[\"Surface garden\"].apply(empty_as_zero)"
   ]
  },
  {
   "cell_type": "code",
   "execution_count": 88,
   "id": "0b5699a0",
   "metadata": {},
   "outputs": [],
   "source": [
    "df[\"Surface garden\"] = null_value[\"Surface garden\"]"
   ]
  },
  {
   "cell_type": "markdown",
   "id": "34ba3adc",
   "metadata": {},
   "source": [
    "--- "
   ]
  },
  {
   "cell_type": "code",
   "execution_count": 89,
   "id": "a6477c9c",
   "metadata": {},
   "outputs": [
    {
     "data": {
      "text/html": [
       "<div>\n",
       "<style scoped>\n",
       "    .dataframe tbody tr th:only-of-type {\n",
       "        vertical-align: middle;\n",
       "    }\n",
       "\n",
       "    .dataframe tbody tr th {\n",
       "        vertical-align: top;\n",
       "    }\n",
       "\n",
       "    .dataframe thead th {\n",
       "        text-align: right;\n",
       "    }\n",
       "</style>\n",
       "<table border=\"1\" class=\"dataframe\">\n",
       "  <thead>\n",
       "    <tr style=\"text-align: right;\">\n",
       "      <th></th>\n",
       "      <th>Livable surface</th>\n",
       "      <th>Surface master bedroom</th>\n",
       "      <th>Surface of living-room</th>\n",
       "    </tr>\n",
       "  </thead>\n",
       "  <tbody>\n",
       "    <tr>\n",
       "      <th>0</th>\n",
       "      <td>100.0</td>\n",
       "      <td>13,56780124</td>\n",
       "      <td>29,29059427</td>\n",
       "    </tr>\n",
       "    <tr>\n",
       "      <th>1</th>\n",
       "      <td>80.0</td>\n",
       "      <td>21</td>\n",
       "      <td>25</td>\n",
       "    </tr>\n",
       "    <tr>\n",
       "      <th>2</th>\n",
       "      <td>80.0</td>\n",
       "      <td>10,85424099</td>\n",
       "      <td>28</td>\n",
       "    </tr>\n",
       "    <tr>\n",
       "      <th>3</th>\n",
       "      <td>217.0</td>\n",
       "      <td>25</td>\n",
       "      <td>63,56058958</td>\n",
       "    </tr>\n",
       "    <tr>\n",
       "      <th>4</th>\n",
       "      <td>207.0</td>\n",
       "      <td>16</td>\n",
       "      <td>60,63153015</td>\n",
       "    </tr>\n",
       "    <tr>\n",
       "      <th>...</th>\n",
       "      <td>...</td>\n",
       "      <td>...</td>\n",
       "      <td>...</td>\n",
       "    </tr>\n",
       "    <tr>\n",
       "      <th>17342</th>\n",
       "      <td>99.0</td>\n",
       "      <td>13,43212323</td>\n",
       "      <td>28,99768833</td>\n",
       "    </tr>\n",
       "    <tr>\n",
       "      <th>17343</th>\n",
       "      <td>NaN</td>\n",
       "      <td>NaN</td>\n",
       "      <td>NaN</td>\n",
       "    </tr>\n",
       "    <tr>\n",
       "      <th>17344</th>\n",
       "      <td>630.0</td>\n",
       "      <td>85,47714781</td>\n",
       "      <td>184,5307439</td>\n",
       "    </tr>\n",
       "    <tr>\n",
       "      <th>17345</th>\n",
       "      <td>196.0</td>\n",
       "      <td>26,59289043</td>\n",
       "      <td>57,40956478</td>\n",
       "    </tr>\n",
       "    <tr>\n",
       "      <th>17346</th>\n",
       "      <td>NaN</td>\n",
       "      <td>NaN</td>\n",
       "      <td>NaN</td>\n",
       "    </tr>\n",
       "  </tbody>\n",
       "</table>\n",
       "<p>17347 rows × 3 columns</p>\n",
       "</div>"
      ],
      "text/plain": [
       "       Livable surface Surface master bedroom Surface of living-room\n",
       "0                100.0            13,56780124            29,29059427\n",
       "1                 80.0                     21                     25\n",
       "2                 80.0            10,85424099                     28\n",
       "3                217.0                     25            63,56058958\n",
       "4                207.0                     16            60,63153015\n",
       "...                ...                    ...                    ...\n",
       "17342             99.0            13,43212323            28,99768833\n",
       "17343              NaN                    NaN                    NaN\n",
       "17344            630.0            85,47714781            184,5307439\n",
       "17345            196.0            26,59289043            57,40956478\n",
       "17346              NaN                    NaN                    NaN\n",
       "\n",
       "[17347 rows x 3 columns]"
      ]
     },
     "execution_count": 89,
     "metadata": {},
     "output_type": "execute_result"
    }
   ],
   "source": [
    "null_value[[\"Livable surface\", \"Surface master bedroom\", \"Surface of living-room\"]]"
   ]
  },
  {
   "cell_type": "markdown",
   "id": "366f613f",
   "metadata": {},
   "source": [
    "Calculating mean surface for living room:"
   ]
  },
  {
   "cell_type": "code",
   "execution_count": 90,
   "id": "520dc99e",
   "metadata": {},
   "outputs": [
    {
     "name": "stdout",
     "output_type": "stream",
     "text": [
      "158\n"
     ]
    }
   ],
   "source": [
    "#  Changing NaN values into 0's\n",
    "null_value[\"Livable surface\"] = null_value[\"Livable surface\"].fillna(0)\n",
    "null_value[\"Livable surface\"] = null_value[\"Livable surface\"].astype(int)\n",
    "\n",
    "#  The mean of every value different from 0\n",
    "nan_filter = null_value[\"Livable surface\"] > 0\n",
    "mean_surface = int(round(null_value[nan_filter][\"Livable surface\"].mean(), 0))\n",
    "print(mean_surface)"
   ]
  },
  {
   "cell_type": "markdown",
   "id": "eaa141e4",
   "metadata": {},
   "source": [
    "Replacing 0 with calculated mean:"
   ]
  },
  {
   "cell_type": "code",
   "execution_count": 91,
   "id": "2c0de21b",
   "metadata": {},
   "outputs": [],
   "source": [
    "null_value[\"Livable surface\"] = null_value[\"Livable surface\"].replace(0, mean_surface)"
   ]
  },
  {
   "cell_type": "code",
   "execution_count": 92,
   "id": "32e49566",
   "metadata": {},
   "outputs": [],
   "source": [
    "df[\"Livable surface\"] = null_value[\"Livable surface\"]"
   ]
  },
  {
   "cell_type": "markdown",
   "id": "dcadd66f",
   "metadata": {},
   "source": [
    "Calculating mean surface for living room:"
   ]
  },
  {
   "cell_type": "code",
   "execution_count": 93,
   "id": "0526b46e",
   "metadata": {},
   "outputs": [
    {
     "name": "stdout",
     "output_type": "stream",
     "text": [
      "42\n"
     ]
    }
   ],
   "source": [
    "null_value[\"Surface of living-room\"] = null_value[\"Surface of living-room\"].fillna(0)\n",
    "# replacing \",\" in float numbers with \".\"\n",
    "null_value[\"Surface of living-room\"] = null_value[\"Surface of living-room\"].str.replace(\",\", \".\")\n",
    "null_value[\"Surface of living-room\"] = null_value[\"Surface of living-room\"].apply(\n",
    "    empty_as_zero\n",
    ")\n",
    "\n",
    "nan_livingroom_filter = null_value[\"Surface of living-room\"] > 0\n",
    "mean_livingroom_surface = int(\n",
    "    round(null_value[nan_livingroom_filter][\"Surface of living-room\"].mean(), 0)\n",
    ")\n",
    "print(mean_livingroom_surface)"
   ]
  },
  {
   "cell_type": "markdown",
   "id": "3296723e",
   "metadata": {},
   "source": [
    "Replacing 0's with calculated mean:"
   ]
  },
  {
   "cell_type": "code",
   "execution_count": 94,
   "id": "c5e21d20",
   "metadata": {},
   "outputs": [],
   "source": [
    "null_value[\"Surface of living-room\"] = null_value[\"Surface of living-room\"].replace(\n",
    "    0, mean_livingroom_surface\n",
    ")"
   ]
  },
  {
   "cell_type": "code",
   "execution_count": 95,
   "id": "93eb8cdd",
   "metadata": {},
   "outputs": [],
   "source": [
    "df[\"Surface of living-room\"] = null_value[\"Surface of living-room\"]"
   ]
  },
  {
   "cell_type": "markdown",
   "id": "c8b078c8",
   "metadata": {},
   "source": [
    "Mean surface for master bedroom:"
   ]
  },
  {
   "cell_type": "code",
   "execution_count": 96,
   "id": "33fdaa83",
   "metadata": {},
   "outputs": [
    {
     "name": "stdout",
     "output_type": "stream",
     "text": [
      "20\n"
     ]
    }
   ],
   "source": [
    "null_value[\"Surface master bedroom\"] = null_value[\"Surface master bedroom\"].fillna(0)\n",
    "null_value[\"Surface master bedroom\"] = null_value[\"Surface master bedroom\"].str.replace(\n",
    "    \",\", \".\"\n",
    ")\n",
    "null_value[\"Surface master bedroom\"] = null_value[\"Surface master bedroom\"].apply(\n",
    "    empty_as_zero\n",
    ")\n",
    "\n",
    "nan_bedroom_filter = null_value[\"Surface master bedroom\"] > 0\n",
    "mean_bedroom_surface = int(\n",
    "    round(null_value[nan_bedroom_filter][\"Surface master bedroom\"].mean(), 0)\n",
    ")\n",
    "print(mean_bedroom_surface)"
   ]
  },
  {
   "cell_type": "markdown",
   "id": "0aa61c26",
   "metadata": {},
   "source": [
    "Replacing 0's with mean:"
   ]
  },
  {
   "cell_type": "code",
   "execution_count": 97,
   "id": "12fbab16",
   "metadata": {},
   "outputs": [],
   "source": [
    "null_value[\"Surface master bedroom\"] = null_value[\"Surface master bedroom\"].replace(\n",
    "    0, mean_bedroom_surface\n",
    ")"
   ]
  },
  {
   "cell_type": "code",
   "execution_count": 98,
   "id": "fe401676",
   "metadata": {},
   "outputs": [],
   "source": [
    "df[\"Surface master bedroom\"] = null_value[\"Surface master bedroom\"]"
   ]
  },
  {
   "cell_type": "markdown",
   "id": "34683915",
   "metadata": {},
   "source": [
    "### One Hot Encoding"
   ]
  },
  {
   "cell_type": "code",
   "execution_count": 99,
   "id": "0749e763",
   "metadata": {},
   "outputs": [],
   "source": [
    "zipcodes = {\n",
    "    (\"1000\", \"1299\"): \"Brussels-Capital Region\",\n",
    "    (\"1300\", \"1499\"): \"Walloon Brabant Province\",\n",
    "    (\"1500\", \"1999\"): \"Flemish Brabant Province\",\n",
    "    (\"2000\", \"2999\"): \"Antwerp Province\",\n",
    "    (\"3000\", \"3499\"): \"Flemish Brabant Province\",\n",
    "    (\"3500\", \"3999\"): \"Limburg Province\",\n",
    "    (\"4000\", \"4999\"): \"Liège Province\",\n",
    "    (\"5000\", \"5999\"): \"Namur Province\",\n",
    "    (\"6000\", \"6599\"): \"Hainaut Province\",\n",
    "    (\"6600\", \"6999\"): \"Luxembourg Province\",\n",
    "    (\"7000\", \"7999\"): \"Hainaut Province\",\n",
    "    (\"8000\", \"8999\"): \"West Flanders Province\",\n",
    "    (\"9000\", \"9999\"): \"East Flanders Province\",\n",
    "}"
   ]
  },
  {
   "cell_type": "code",
   "execution_count": 100,
   "id": "7f1337e9",
   "metadata": {
    "scrolled": true
   },
   "outputs": [
    {
     "data": {
      "text/html": [
       "<div>\n",
       "<style scoped>\n",
       "    .dataframe tbody tr th:only-of-type {\n",
       "        vertical-align: middle;\n",
       "    }\n",
       "\n",
       "    .dataframe tbody tr th {\n",
       "        vertical-align: top;\n",
       "    }\n",
       "\n",
       "    .dataframe thead th {\n",
       "        text-align: right;\n",
       "    }\n",
       "</style>\n",
       "<table border=\"1\" class=\"dataframe\">\n",
       "  <thead>\n",
       "    <tr style=\"text-align: right;\">\n",
       "      <th></th>\n",
       "      <th>Locality</th>\n",
       "      <th>Property type</th>\n",
       "    </tr>\n",
       "  </thead>\n",
       "  <tbody>\n",
       "    <tr>\n",
       "      <th>0</th>\n",
       "      <td>1000 Brussels</td>\n",
       "      <td>apartment</td>\n",
       "    </tr>\n",
       "    <tr>\n",
       "      <th>1</th>\n",
       "      <td>1000 Brussels</td>\n",
       "      <td>apartment</td>\n",
       "    </tr>\n",
       "    <tr>\n",
       "      <th>2</th>\n",
       "      <td>1000 Brussels</td>\n",
       "      <td>apartment</td>\n",
       "    </tr>\n",
       "    <tr>\n",
       "      <th>3</th>\n",
       "      <td>1000 Brussels</td>\n",
       "      <td>loft</td>\n",
       "    </tr>\n",
       "    <tr>\n",
       "      <th>4</th>\n",
       "      <td>1000 Brussels</td>\n",
       "      <td>loft</td>\n",
       "    </tr>\n",
       "  </tbody>\n",
       "</table>\n",
       "</div>"
      ],
      "text/plain": [
       "        Locality Property type\n",
       "0  1000 Brussels     apartment\n",
       "1  1000 Brussels     apartment\n",
       "2  1000 Brussels     apartment\n",
       "3  1000 Brussels          loft\n",
       "4  1000 Brussels          loft"
      ]
     },
     "execution_count": 100,
     "metadata": {},
     "output_type": "execute_result"
    }
   ],
   "source": [
    "nominal_data.head()"
   ]
  },
  {
   "cell_type": "code",
   "execution_count": 101,
   "id": "514dd525",
   "metadata": {},
   "outputs": [],
   "source": [
    "nominal_data[\"Locality\"] = nominal_data[\"Locality\"].str.extract(r\"(^\\d+)\")"
   ]
  },
  {
   "cell_type": "code",
   "execution_count": 102,
   "id": "5eb306e0",
   "metadata": {},
   "outputs": [],
   "source": [
    "for k, v in zipcodes.items():\n",
    "    nominal_data[\"Locality\"] = np.where(\n",
    "        nominal_data[\"Locality\"].between(k[0], k[1]), v, nominal_data[\"Locality\"]\n",
    "    )"
   ]
  },
  {
   "cell_type": "code",
   "execution_count": 103,
   "id": "412d3666",
   "metadata": {
    "scrolled": false
   },
   "outputs": [
    {
     "data": {
      "text/plain": [
       "Antwerp Province            2841\n",
       "West Flanders Province      2775\n",
       "Brussels-Capital Region     2627\n",
       "Hainaut Province            2331\n",
       "Flemish Brabant Province    1757\n",
       "East Flanders Province      1694\n",
       "Liège Province              1185\n",
       "Limburg Province            1010\n",
       "Walloon Brabant Province     560\n",
       "Luxembourg Province          321\n",
       "Namur Province               246\n",
       "Name: Locality, dtype: int64"
      ]
     },
     "execution_count": 103,
     "metadata": {},
     "output_type": "execute_result"
    }
   ],
   "source": [
    "nominal_data[\"Locality\"].value_counts()"
   ]
  },
  {
   "cell_type": "markdown",
   "id": "2d9c16a3",
   "metadata": {},
   "source": [
    "Creating the columns for property types:"
   ]
  },
  {
   "cell_type": "code",
   "execution_count": 104,
   "id": "ffaf611a",
   "metadata": {
    "scrolled": false
   },
   "outputs": [],
   "source": [
    "prop_types = [\n",
    "    \"residence\",\n",
    "    \"apartment\",\n",
    "    \"villa\",\n",
    "    \"ground-floor\",\n",
    "    \"duplex\",\n",
    "    \"mixed-building\",\n",
    "    \"penthouse\",\n",
    "    \"studio\",\n",
    "    \"master-house\",\n",
    "    \"loft\",\n",
    "    \"cottage\",\n",
    "    \"bungalow\",\n",
    "    \"triplex\",\n",
    "    \"chalet\",\n",
    "    \"mansion\",\n",
    "]"
   ]
  },
  {
   "cell_type": "code",
   "execution_count": 105,
   "id": "d07a7dba",
   "metadata": {},
   "outputs": [],
   "source": [
    "dummies = pd.get_dummies(nominal_data[\"Property type\"], columns=prop_types)"
   ]
  },
  {
   "cell_type": "code",
   "execution_count": 106,
   "id": "bd975407",
   "metadata": {
    "scrolled": false
   },
   "outputs": [
    {
     "data": {
      "text/html": [
       "<div>\n",
       "<style scoped>\n",
       "    .dataframe tbody tr th:only-of-type {\n",
       "        vertical-align: middle;\n",
       "    }\n",
       "\n",
       "    .dataframe tbody tr th {\n",
       "        vertical-align: top;\n",
       "    }\n",
       "\n",
       "    .dataframe thead th {\n",
       "        text-align: right;\n",
       "    }\n",
       "</style>\n",
       "<table border=\"1\" class=\"dataframe\">\n",
       "  <thead>\n",
       "    <tr style=\"text-align: right;\">\n",
       "      <th></th>\n",
       "      <th>apartment</th>\n",
       "      <th>bungalow</th>\n",
       "      <th>chalet</th>\n",
       "      <th>cottage</th>\n",
       "      <th>duplex</th>\n",
       "      <th>ground-floor</th>\n",
       "      <th>loft</th>\n",
       "      <th>mansion</th>\n",
       "      <th>master-house</th>\n",
       "      <th>mixed-building</th>\n",
       "      <th>penthouse</th>\n",
       "      <th>residence</th>\n",
       "      <th>studio</th>\n",
       "      <th>triplex</th>\n",
       "      <th>villa</th>\n",
       "    </tr>\n",
       "  </thead>\n",
       "  <tbody>\n",
       "    <tr>\n",
       "      <th>0</th>\n",
       "      <td>1</td>\n",
       "      <td>0</td>\n",
       "      <td>0</td>\n",
       "      <td>0</td>\n",
       "      <td>0</td>\n",
       "      <td>0</td>\n",
       "      <td>0</td>\n",
       "      <td>0</td>\n",
       "      <td>0</td>\n",
       "      <td>0</td>\n",
       "      <td>0</td>\n",
       "      <td>0</td>\n",
       "      <td>0</td>\n",
       "      <td>0</td>\n",
       "      <td>0</td>\n",
       "    </tr>\n",
       "    <tr>\n",
       "      <th>1</th>\n",
       "      <td>1</td>\n",
       "      <td>0</td>\n",
       "      <td>0</td>\n",
       "      <td>0</td>\n",
       "      <td>0</td>\n",
       "      <td>0</td>\n",
       "      <td>0</td>\n",
       "      <td>0</td>\n",
       "      <td>0</td>\n",
       "      <td>0</td>\n",
       "      <td>0</td>\n",
       "      <td>0</td>\n",
       "      <td>0</td>\n",
       "      <td>0</td>\n",
       "      <td>0</td>\n",
       "    </tr>\n",
       "    <tr>\n",
       "      <th>2</th>\n",
       "      <td>1</td>\n",
       "      <td>0</td>\n",
       "      <td>0</td>\n",
       "      <td>0</td>\n",
       "      <td>0</td>\n",
       "      <td>0</td>\n",
       "      <td>0</td>\n",
       "      <td>0</td>\n",
       "      <td>0</td>\n",
       "      <td>0</td>\n",
       "      <td>0</td>\n",
       "      <td>0</td>\n",
       "      <td>0</td>\n",
       "      <td>0</td>\n",
       "      <td>0</td>\n",
       "    </tr>\n",
       "    <tr>\n",
       "      <th>3</th>\n",
       "      <td>0</td>\n",
       "      <td>0</td>\n",
       "      <td>0</td>\n",
       "      <td>0</td>\n",
       "      <td>0</td>\n",
       "      <td>0</td>\n",
       "      <td>1</td>\n",
       "      <td>0</td>\n",
       "      <td>0</td>\n",
       "      <td>0</td>\n",
       "      <td>0</td>\n",
       "      <td>0</td>\n",
       "      <td>0</td>\n",
       "      <td>0</td>\n",
       "      <td>0</td>\n",
       "    </tr>\n",
       "    <tr>\n",
       "      <th>4</th>\n",
       "      <td>0</td>\n",
       "      <td>0</td>\n",
       "      <td>0</td>\n",
       "      <td>0</td>\n",
       "      <td>0</td>\n",
       "      <td>0</td>\n",
       "      <td>1</td>\n",
       "      <td>0</td>\n",
       "      <td>0</td>\n",
       "      <td>0</td>\n",
       "      <td>0</td>\n",
       "      <td>0</td>\n",
       "      <td>0</td>\n",
       "      <td>0</td>\n",
       "      <td>0</td>\n",
       "    </tr>\n",
       "    <tr>\n",
       "      <th>...</th>\n",
       "      <td>...</td>\n",
       "      <td>...</td>\n",
       "      <td>...</td>\n",
       "      <td>...</td>\n",
       "      <td>...</td>\n",
       "      <td>...</td>\n",
       "      <td>...</td>\n",
       "      <td>...</td>\n",
       "      <td>...</td>\n",
       "      <td>...</td>\n",
       "      <td>...</td>\n",
       "      <td>...</td>\n",
       "      <td>...</td>\n",
       "      <td>...</td>\n",
       "      <td>...</td>\n",
       "    </tr>\n",
       "    <tr>\n",
       "      <th>17342</th>\n",
       "      <td>1</td>\n",
       "      <td>0</td>\n",
       "      <td>0</td>\n",
       "      <td>0</td>\n",
       "      <td>0</td>\n",
       "      <td>0</td>\n",
       "      <td>0</td>\n",
       "      <td>0</td>\n",
       "      <td>0</td>\n",
       "      <td>0</td>\n",
       "      <td>0</td>\n",
       "      <td>0</td>\n",
       "      <td>0</td>\n",
       "      <td>0</td>\n",
       "      <td>0</td>\n",
       "    </tr>\n",
       "    <tr>\n",
       "      <th>17343</th>\n",
       "      <td>0</td>\n",
       "      <td>0</td>\n",
       "      <td>0</td>\n",
       "      <td>0</td>\n",
       "      <td>0</td>\n",
       "      <td>0</td>\n",
       "      <td>0</td>\n",
       "      <td>0</td>\n",
       "      <td>0</td>\n",
       "      <td>0</td>\n",
       "      <td>0</td>\n",
       "      <td>0</td>\n",
       "      <td>0</td>\n",
       "      <td>0</td>\n",
       "      <td>1</td>\n",
       "    </tr>\n",
       "    <tr>\n",
       "      <th>17344</th>\n",
       "      <td>0</td>\n",
       "      <td>0</td>\n",
       "      <td>0</td>\n",
       "      <td>0</td>\n",
       "      <td>0</td>\n",
       "      <td>0</td>\n",
       "      <td>0</td>\n",
       "      <td>0</td>\n",
       "      <td>0</td>\n",
       "      <td>0</td>\n",
       "      <td>0</td>\n",
       "      <td>0</td>\n",
       "      <td>0</td>\n",
       "      <td>0</td>\n",
       "      <td>1</td>\n",
       "    </tr>\n",
       "    <tr>\n",
       "      <th>17345</th>\n",
       "      <td>0</td>\n",
       "      <td>0</td>\n",
       "      <td>0</td>\n",
       "      <td>0</td>\n",
       "      <td>0</td>\n",
       "      <td>0</td>\n",
       "      <td>0</td>\n",
       "      <td>0</td>\n",
       "      <td>0</td>\n",
       "      <td>0</td>\n",
       "      <td>0</td>\n",
       "      <td>1</td>\n",
       "      <td>0</td>\n",
       "      <td>0</td>\n",
       "      <td>0</td>\n",
       "    </tr>\n",
       "    <tr>\n",
       "      <th>17346</th>\n",
       "      <td>0</td>\n",
       "      <td>0</td>\n",
       "      <td>0</td>\n",
       "      <td>0</td>\n",
       "      <td>0</td>\n",
       "      <td>0</td>\n",
       "      <td>0</td>\n",
       "      <td>0</td>\n",
       "      <td>0</td>\n",
       "      <td>0</td>\n",
       "      <td>0</td>\n",
       "      <td>1</td>\n",
       "      <td>0</td>\n",
       "      <td>0</td>\n",
       "      <td>0</td>\n",
       "    </tr>\n",
       "  </tbody>\n",
       "</table>\n",
       "<p>17347 rows × 15 columns</p>\n",
       "</div>"
      ],
      "text/plain": [
       "       apartment  bungalow  chalet  cottage  duplex  ground-floor  loft  \\\n",
       "0              1         0       0        0       0             0     0   \n",
       "1              1         0       0        0       0             0     0   \n",
       "2              1         0       0        0       0             0     0   \n",
       "3              0         0       0        0       0             0     1   \n",
       "4              0         0       0        0       0             0     1   \n",
       "...          ...       ...     ...      ...     ...           ...   ...   \n",
       "17342          1         0       0        0       0             0     0   \n",
       "17343          0         0       0        0       0             0     0   \n",
       "17344          0         0       0        0       0             0     0   \n",
       "17345          0         0       0        0       0             0     0   \n",
       "17346          0         0       0        0       0             0     0   \n",
       "\n",
       "       mansion  master-house  mixed-building  penthouse  residence  studio  \\\n",
       "0            0             0               0          0          0       0   \n",
       "1            0             0               0          0          0       0   \n",
       "2            0             0               0          0          0       0   \n",
       "3            0             0               0          0          0       0   \n",
       "4            0             0               0          0          0       0   \n",
       "...        ...           ...             ...        ...        ...     ...   \n",
       "17342        0             0               0          0          0       0   \n",
       "17343        0             0               0          0          0       0   \n",
       "17344        0             0               0          0          0       0   \n",
       "17345        0             0               0          0          1       0   \n",
       "17346        0             0               0          0          1       0   \n",
       "\n",
       "       triplex  villa  \n",
       "0            0      0  \n",
       "1            0      0  \n",
       "2            0      0  \n",
       "3            0      0  \n",
       "4            0      0  \n",
       "...        ...    ...  \n",
       "17342        0      0  \n",
       "17343        0      1  \n",
       "17344        0      1  \n",
       "17345        0      0  \n",
       "17346        0      0  \n",
       "\n",
       "[17347 rows x 15 columns]"
      ]
     },
     "execution_count": 106,
     "metadata": {},
     "output_type": "execute_result"
    }
   ],
   "source": [
    "dummies"
   ]
  },
  {
   "cell_type": "markdown",
   "id": "eb50c2f5",
   "metadata": {},
   "source": [
    "Merging *dummies* with the original df"
   ]
  },
  {
   "cell_type": "code",
   "execution_count": 107,
   "id": "31c19abc",
   "metadata": {},
   "outputs": [],
   "source": [
    "df = pd.concat([df, dummies], axis=1)"
   ]
  },
  {
   "cell_type": "code",
   "execution_count": 108,
   "id": "bd5f0f95",
   "metadata": {},
   "outputs": [],
   "source": [
    "ohe_localities = pd.get_dummies(nominal_data[\"Locality\"], columns = zipcodes.values())"
   ]
  },
  {
   "cell_type": "code",
   "execution_count": 118,
   "id": "99045bf7",
   "metadata": {},
   "outputs": [],
   "source": [
    "df = pd.concat([df, ohe_localities], axis=1)"
   ]
  },
  {
   "cell_type": "code",
   "execution_count": 119,
   "id": "cf29fa3a",
   "metadata": {},
   "outputs": [],
   "source": [
    "df = df.drop([\"Property type\", \"Locality\"], axis=1)"
   ]
  },
  {
   "cell_type": "code",
   "execution_count": 121,
   "id": "c0b673f6",
   "metadata": {
    "scrolled": true
   },
   "outputs": [
    {
     "data": {
      "text/html": [
       "<div>\n",
       "<style scoped>\n",
       "    .dataframe tbody tr th:only-of-type {\n",
       "        vertical-align: middle;\n",
       "    }\n",
       "\n",
       "    .dataframe tbody tr th {\n",
       "        vertical-align: top;\n",
       "    }\n",
       "\n",
       "    .dataframe thead th {\n",
       "        text-align: right;\n",
       "    }\n",
       "</style>\n",
       "<table border=\"1\" class=\"dataframe\">\n",
       "  <thead>\n",
       "    <tr style=\"text-align: right;\">\n",
       "      <th></th>\n",
       "      <th>Price</th>\n",
       "      <th>Number of bedrooms</th>\n",
       "      <th>Livable surface</th>\n",
       "      <th>Kitchen equipment</th>\n",
       "      <th>Number of bathrooms</th>\n",
       "      <th>Balcony</th>\n",
       "      <th>State of the property</th>\n",
       "      <th>Surface master bedroom</th>\n",
       "      <th>Surface of living-room</th>\n",
       "      <th>Cellar</th>\n",
       "      <th>...</th>\n",
       "      <th>Brussels-Capital Region</th>\n",
       "      <th>East Flanders Province</th>\n",
       "      <th>Flemish Brabant Province</th>\n",
       "      <th>Hainaut Province</th>\n",
       "      <th>Limburg Province</th>\n",
       "      <th>Liège Province</th>\n",
       "      <th>Luxembourg Province</th>\n",
       "      <th>Namur Province</th>\n",
       "      <th>Walloon Brabant Province</th>\n",
       "      <th>West Flanders Province</th>\n",
       "    </tr>\n",
       "  </thead>\n",
       "  <tbody>\n",
       "    <tr>\n",
       "      <th>0</th>\n",
       "      <td>333500.0</td>\n",
       "      <td>2.0</td>\n",
       "      <td>100.0</td>\n",
       "      <td>4.0</td>\n",
       "      <td>1.0</td>\n",
       "      <td>0.0</td>\n",
       "      <td>2.0</td>\n",
       "      <td>13.0</td>\n",
       "      <td>29.0</td>\n",
       "      <td>0.0</td>\n",
       "      <td>...</td>\n",
       "      <td>1</td>\n",
       "      <td>0</td>\n",
       "      <td>0</td>\n",
       "      <td>0</td>\n",
       "      <td>0</td>\n",
       "      <td>0</td>\n",
       "      <td>0</td>\n",
       "      <td>0</td>\n",
       "      <td>0</td>\n",
       "      <td>0</td>\n",
       "    </tr>\n",
       "    <tr>\n",
       "      <th>1</th>\n",
       "      <td>379000.0</td>\n",
       "      <td>1.0</td>\n",
       "      <td>80.0</td>\n",
       "      <td>4.0</td>\n",
       "      <td>1.0</td>\n",
       "      <td>0.0</td>\n",
       "      <td>2.0</td>\n",
       "      <td>21.0</td>\n",
       "      <td>25.0</td>\n",
       "      <td>1.0</td>\n",
       "      <td>...</td>\n",
       "      <td>1</td>\n",
       "      <td>0</td>\n",
       "      <td>0</td>\n",
       "      <td>0</td>\n",
       "      <td>0</td>\n",
       "      <td>0</td>\n",
       "      <td>0</td>\n",
       "      <td>0</td>\n",
       "      <td>0</td>\n",
       "      <td>0</td>\n",
       "    </tr>\n",
       "    <tr>\n",
       "      <th>2</th>\n",
       "      <td>295000.0</td>\n",
       "      <td>2.0</td>\n",
       "      <td>80.0</td>\n",
       "      <td>2.0</td>\n",
       "      <td>1.0</td>\n",
       "      <td>0.0</td>\n",
       "      <td>2.0</td>\n",
       "      <td>10.0</td>\n",
       "      <td>28.0</td>\n",
       "      <td>0.0</td>\n",
       "      <td>...</td>\n",
       "      <td>1</td>\n",
       "      <td>0</td>\n",
       "      <td>0</td>\n",
       "      <td>0</td>\n",
       "      <td>0</td>\n",
       "      <td>0</td>\n",
       "      <td>0</td>\n",
       "      <td>0</td>\n",
       "      <td>0</td>\n",
       "      <td>0</td>\n",
       "    </tr>\n",
       "    <tr>\n",
       "      <th>3</th>\n",
       "      <td>635000.0</td>\n",
       "      <td>2.0</td>\n",
       "      <td>217.0</td>\n",
       "      <td>4.0</td>\n",
       "      <td>1.0</td>\n",
       "      <td>0.0</td>\n",
       "      <td>4.0</td>\n",
       "      <td>25.0</td>\n",
       "      <td>63.0</td>\n",
       "      <td>0.0</td>\n",
       "      <td>...</td>\n",
       "      <td>1</td>\n",
       "      <td>0</td>\n",
       "      <td>0</td>\n",
       "      <td>0</td>\n",
       "      <td>0</td>\n",
       "      <td>0</td>\n",
       "      <td>0</td>\n",
       "      <td>0</td>\n",
       "      <td>0</td>\n",
       "      <td>0</td>\n",
       "    </tr>\n",
       "    <tr>\n",
       "      <th>4</th>\n",
       "      <td>595000.0</td>\n",
       "      <td>2.0</td>\n",
       "      <td>207.0</td>\n",
       "      <td>2.0</td>\n",
       "      <td>2.0</td>\n",
       "      <td>0.0</td>\n",
       "      <td>4.0</td>\n",
       "      <td>16.0</td>\n",
       "      <td>60.0</td>\n",
       "      <td>0.0</td>\n",
       "      <td>...</td>\n",
       "      <td>1</td>\n",
       "      <td>0</td>\n",
       "      <td>0</td>\n",
       "      <td>0</td>\n",
       "      <td>0</td>\n",
       "      <td>0</td>\n",
       "      <td>0</td>\n",
       "      <td>0</td>\n",
       "      <td>0</td>\n",
       "      <td>0</td>\n",
       "    </tr>\n",
       "  </tbody>\n",
       "</table>\n",
       "<p>5 rows × 40 columns</p>\n",
       "</div>"
      ],
      "text/plain": [
       "      Price  Number of bedrooms  Livable surface  Kitchen equipment  \\\n",
       "0  333500.0                 2.0            100.0                4.0   \n",
       "1  379000.0                 1.0             80.0                4.0   \n",
       "2  295000.0                 2.0             80.0                2.0   \n",
       "3  635000.0                 2.0            217.0                4.0   \n",
       "4  595000.0                 2.0            207.0                2.0   \n",
       "\n",
       "   Number of bathrooms  Balcony  State of the property  \\\n",
       "0                  1.0      0.0                    2.0   \n",
       "1                  1.0      0.0                    2.0   \n",
       "2                  1.0      0.0                    2.0   \n",
       "3                  1.0      0.0                    4.0   \n",
       "4                  2.0      0.0                    4.0   \n",
       "\n",
       "   Surface master bedroom  Surface of living-room  Cellar  ...  \\\n",
       "0                    13.0                    29.0     0.0  ...   \n",
       "1                    21.0                    25.0     1.0  ...   \n",
       "2                    10.0                    28.0     0.0  ...   \n",
       "3                    25.0                    63.0     0.0  ...   \n",
       "4                    16.0                    60.0     0.0  ...   \n",
       "\n",
       "   Brussels-Capital Region  East Flanders Province  Flemish Brabant Province  \\\n",
       "0                        1                       0                         0   \n",
       "1                        1                       0                         0   \n",
       "2                        1                       0                         0   \n",
       "3                        1                       0                         0   \n",
       "4                        1                       0                         0   \n",
       "\n",
       "   Hainaut Province  Limburg Province  Liège Province  Luxembourg Province  \\\n",
       "0                 0                 0               0                    0   \n",
       "1                 0                 0               0                    0   \n",
       "2                 0                 0               0                    0   \n",
       "3                 0                 0               0                    0   \n",
       "4                 0                 0               0                    0   \n",
       "\n",
       "   Namur Province  Walloon Brabant Province  West Flanders Province  \n",
       "0               0                         0                       0  \n",
       "1               0                         0                       0  \n",
       "2               0                         0                       0  \n",
       "3               0                         0                       0  \n",
       "4               0                         0                       0  \n",
       "\n",
       "[5 rows x 40 columns]"
      ]
     },
     "execution_count": 121,
     "metadata": {},
     "output_type": "execute_result"
    }
   ],
   "source": [
    "df.head()"
   ]
  },
  {
   "cell_type": "code",
   "execution_count": 137,
   "id": "84986ed2",
   "metadata": {},
   "outputs": [],
   "source": [
    "df = df.dropna()"
   ]
  },
  {
   "cell_type": "code",
   "execution_count": 138,
   "id": "d7267dcb",
   "metadata": {},
   "outputs": [],
   "source": [
    "df.to_csv(\"ML_ready_data.csv\", index=False)"
   ]
  }
 ],
 "metadata": {
  "kernelspec": {
   "display_name": "Python 3 (ipykernel)",
   "language": "python",
   "name": "python3"
  },
  "language_info": {
   "codemirror_mode": {
    "name": "ipython",
    "version": 3
   },
   "file_extension": ".py",
   "mimetype": "text/x-python",
   "name": "python",
   "nbconvert_exporter": "python",
   "pygments_lexer": "ipython3",
   "version": "3.9.7"
  }
 },
 "nbformat": 4,
 "nbformat_minor": 5
}
