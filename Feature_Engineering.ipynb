{
 "cells": [
  {
   "cell_type": "markdown",
   "id": "5323e3ec",
   "metadata": {},
   "source": [
    "# 1. Feature Engineering\n",
    "---"
   ]
  },
  {
   "cell_type": "code",
   "execution_count": 120,
   "id": "83c2a9c1",
   "metadata": {},
   "outputs": [],
   "source": [
    "import typing\n",
    "import numpy as np\n",
    "import pandas as pd"
   ]
  },
  {
   "cell_type": "markdown",
   "id": "59536723",
   "metadata": {},
   "source": [
    "---"
   ]
  },
  {
   "cell_type": "code",
   "execution_count": 71,
   "id": "18830945",
   "metadata": {},
   "outputs": [],
   "source": [
    "def ordinal(entry: str) -> int:\n",
    "    \"\"\"\n",
    "    Function that transforms Qualitative/Ordinal values into integers \n",
    "    \"\"\"\n",
    "    if entry == \"Not equipped\" or entry == \"To be renovated\":\n",
    "        return 1\n",
    "    elif entry == \"Partially equipped\" or entry == \"Normal\":\n",
    "        return 2\n",
    "    elif entry == \"Fully equipped\" or entry == \"Excellent\":\n",
    "        return 3\n",
    "    elif entry == \"Super equipped\" or entry == \"Fully renovated\":\n",
    "        return 4\n",
    "    elif entry == \"New\":\n",
    "        return 5"
   ]
  },
  {
   "cell_type": "code",
   "execution_count": 90,
   "id": "16fe1fd8",
   "metadata": {},
   "outputs": [],
   "source": [
    "def round_up_to_int(entry: float) -> int:\n",
    "    \"\"\"\n",
    "    Function that rounds up float values and turns them into integers\n",
    "    \"\"\"\n",
    "    return int(round(entry, 0))"
   ]
  },
  {
   "cell_type": "code",
   "execution_count": 133,
   "id": "7a5029b8",
   "metadata": {},
   "outputs": [],
   "source": [
    "def empty_as_one(entry: None) -> int:\n",
    "    \"\"\"\n",
    "    Function that replaces floats with integer and empty values with default value \"1\"\n",
    "    \"\"\"\n",
    "    if pd.isnull(entry):\n",
    "        return 1\n",
    "    else:\n",
    "        return int(entry)"
   ]
  },
  {
   "cell_type": "code",
   "execution_count": 178,
   "id": "5c3a9e47",
   "metadata": {},
   "outputs": [],
   "source": [
    "def empty_as_zero(entry: None) -> int:\n",
    "    \"\"\"\n",
    "    Function that replaces floats with integer and empty values with default value \"0\"\n",
    "    \"\"\"\n",
    "    if pd.isnull(entry):\n",
    "        return 0\n",
    "    else:\n",
    "        return int(entry)"
   ]
  },
  {
   "cell_type": "code",
   "execution_count": null,
   "id": "643dde8c",
   "metadata": {},
   "outputs": [],
   "source": [
    "def empty_to_average(entry: None) -> int:\n",
    "    \"\"\"\n",
    "    Function that replaces floats with integer and empty values with a rounded average of all values of the column\n",
    "    \"\"\"\n",
    "    "
   ]
  },
  {
   "cell_type": "markdown",
   "id": "7cfecf90",
   "metadata": {},
   "source": [
    "---"
   ]
  },
  {
   "cell_type": "code",
   "execution_count": 134,
   "id": "9276442e",
   "metadata": {
    "scrolled": true
   },
   "outputs": [
    {
     "data": {
      "text/html": [
       "<div>\n",
       "<style scoped>\n",
       "    .dataframe tbody tr th:only-of-type {\n",
       "        vertical-align: middle;\n",
       "    }\n",
       "\n",
       "    .dataframe tbody tr th {\n",
       "        vertical-align: top;\n",
       "    }\n",
       "\n",
       "    .dataframe thead th {\n",
       "        text-align: right;\n",
       "    }\n",
       "</style>\n",
       "<table border=\"1\" class=\"dataframe\">\n",
       "  <thead>\n",
       "    <tr style=\"text-align: right;\">\n",
       "      <th></th>\n",
       "      <th>Unnamed: 0</th>\n",
       "      <th>Locality</th>\n",
       "      <th>Type of property</th>\n",
       "      <th>Subtype of property</th>\n",
       "      <th>Price</th>\n",
       "      <th>Number of bedrooms</th>\n",
       "      <th>Livable surface</th>\n",
       "      <th>Kitchen equipment</th>\n",
       "      <th>Number of bathrooms</th>\n",
       "      <th>Number of toilets</th>\n",
       "      <th>...</th>\n",
       "      <th>Terrace</th>\n",
       "      <th>Surface terrace</th>\n",
       "      <th>Surface bedroom 2</th>\n",
       "      <th>Security door</th>\n",
       "      <th>Access for disabled</th>\n",
       "      <th>Sewer Connection</th>\n",
       "      <th>Garden</th>\n",
       "      <th>Surface garden</th>\n",
       "      <th>Surface bedroom 3</th>\n",
       "      <th>Garage</th>\n",
       "    </tr>\n",
       "  </thead>\n",
       "  <tbody>\n",
       "    <tr>\n",
       "      <th>0</th>\n",
       "      <td>0</td>\n",
       "      <td>1000 Brussels</td>\n",
       "      <td>flat</td>\n",
       "      <td>apartment</td>\n",
       "      <td>333500</td>\n",
       "      <td>2.0</td>\n",
       "      <td>100.0</td>\n",
       "      <td>Super equipped</td>\n",
       "      <td>1</td>\n",
       "      <td>1</td>\n",
       "      <td>...</td>\n",
       "      <td>0</td>\n",
       "      <td>0.0</td>\n",
       "      <td>10,98298429</td>\n",
       "      <td>0</td>\n",
       "      <td>0</td>\n",
       "      <td>1</td>\n",
       "      <td>0</td>\n",
       "      <td>NaN</td>\n",
       "      <td>8,916937566</td>\n",
       "      <td>0</td>\n",
       "    </tr>\n",
       "    <tr>\n",
       "      <th>1</th>\n",
       "      <td>1</td>\n",
       "      <td>1000 Brussels</td>\n",
       "      <td>flat</td>\n",
       "      <td>apartment</td>\n",
       "      <td>379000</td>\n",
       "      <td>1.0</td>\n",
       "      <td>80.0</td>\n",
       "      <td>Super equipped</td>\n",
       "      <td>1</td>\n",
       "      <td>1</td>\n",
       "      <td>...</td>\n",
       "      <td>0</td>\n",
       "      <td>0.0</td>\n",
       "      <td>8,786387434</td>\n",
       "      <td>0</td>\n",
       "      <td>0</td>\n",
       "      <td>1</td>\n",
       "      <td>0</td>\n",
       "      <td>NaN</td>\n",
       "      <td>7,133550053</td>\n",
       "      <td>0</td>\n",
       "    </tr>\n",
       "    <tr>\n",
       "      <th>2</th>\n",
       "      <td>2</td>\n",
       "      <td>1000 Brussels</td>\n",
       "      <td>flat</td>\n",
       "      <td>apartment</td>\n",
       "      <td>295000</td>\n",
       "      <td>2.0</td>\n",
       "      <td>80.0</td>\n",
       "      <td>Partially equipped</td>\n",
       "      <td>1</td>\n",
       "      <td>1</td>\n",
       "      <td>...</td>\n",
       "      <td>1</td>\n",
       "      <td>4.0</td>\n",
       "      <td>8,786387434</td>\n",
       "      <td>0</td>\n",
       "      <td>0</td>\n",
       "      <td>1</td>\n",
       "      <td>0</td>\n",
       "      <td>NaN</td>\n",
       "      <td>7,133550053</td>\n",
       "      <td>0</td>\n",
       "    </tr>\n",
       "    <tr>\n",
       "      <th>3</th>\n",
       "      <td>3</td>\n",
       "      <td>1000 Brussels</td>\n",
       "      <td>flat</td>\n",
       "      <td>loft</td>\n",
       "      <td>635000</td>\n",
       "      <td>2.0</td>\n",
       "      <td>217.0</td>\n",
       "      <td>Super equipped</td>\n",
       "      <td>1</td>\n",
       "      <td>3</td>\n",
       "      <td>...</td>\n",
       "      <td>1</td>\n",
       "      <td>40.0</td>\n",
       "      <td>21</td>\n",
       "      <td>1</td>\n",
       "      <td>1</td>\n",
       "      <td>1</td>\n",
       "      <td>0</td>\n",
       "      <td>NaN</td>\n",
       "      <td>19,34975452</td>\n",
       "      <td>0</td>\n",
       "    </tr>\n",
       "    <tr>\n",
       "      <th>4</th>\n",
       "      <td>4</td>\n",
       "      <td>1000 Brussels</td>\n",
       "      <td>flat</td>\n",
       "      <td>loft</td>\n",
       "      <td>595000</td>\n",
       "      <td>2.0</td>\n",
       "      <td>207.0</td>\n",
       "      <td>Partially equipped</td>\n",
       "      <td>2</td>\n",
       "      <td>2</td>\n",
       "      <td>...</td>\n",
       "      <td>1</td>\n",
       "      <td>10.0</td>\n",
       "      <td>16</td>\n",
       "      <td>0</td>\n",
       "      <td>1</td>\n",
       "      <td>1</td>\n",
       "      <td>0</td>\n",
       "      <td>NaN</td>\n",
       "      <td>18,45806076</td>\n",
       "      <td>0</td>\n",
       "    </tr>\n",
       "  </tbody>\n",
       "</table>\n",
       "<p>5 rows × 35 columns</p>\n",
       "</div>"
      ],
      "text/plain": [
       "   Unnamed: 0       Locality Type of property Subtype of property   Price  \\\n",
       "0           0  1000 Brussels             flat           apartment  333500   \n",
       "1           1  1000 Brussels             flat           apartment  379000   \n",
       "2           2  1000 Brussels             flat           apartment  295000   \n",
       "3           3  1000 Brussels             flat                loft  635000   \n",
       "4           4  1000 Brussels             flat                loft  595000   \n",
       "\n",
       "   Number of bedrooms  Livable surface   Kitchen equipment  \\\n",
       "0                 2.0            100.0      Super equipped   \n",
       "1                 1.0             80.0      Super equipped   \n",
       "2                 2.0             80.0  Partially equipped   \n",
       "3                 2.0            217.0      Super equipped   \n",
       "4                 2.0            207.0  Partially equipped   \n",
       "\n",
       "   Number of bathrooms  Number of toilets  ...  Terrace  Surface terrace  \\\n",
       "0                    1                  1  ...        0              0.0   \n",
       "1                    1                  1  ...        0              0.0   \n",
       "2                    1                  1  ...        1              4.0   \n",
       "3                    1                  3  ...        1             40.0   \n",
       "4                    2                  2  ...        1             10.0   \n",
       "\n",
       "   Surface bedroom 2 Security door  Access for disabled Sewer Connection  \\\n",
       "0        10,98298429             0                    0                1   \n",
       "1        8,786387434             0                    0                1   \n",
       "2        8,786387434             0                    0                1   \n",
       "3                 21             1                    1                1   \n",
       "4                 16             0                    1                1   \n",
       "\n",
       "   Garden Surface garden  Surface bedroom 3 Garage  \n",
       "0       0            NaN        8,916937566      0  \n",
       "1       0            NaN        7,133550053      0  \n",
       "2       0            NaN        7,133550053      0  \n",
       "3       0            NaN        19,34975452      0  \n",
       "4       0            NaN        18,45806076      0  \n",
       "\n",
       "[5 rows x 35 columns]"
      ]
     },
     "execution_count": 134,
     "metadata": {},
     "output_type": "execute_result"
    }
   ],
   "source": [
    "df = pd.read_csv(\n",
    "    \"/Users/tonyanciaux/Documents/AI Bootcamp - BeCode/project3_immovlan_analysis/utils/data_cleaned.csv\",\n",
    "    sep=\";\",\n",
    ")\n",
    "df.head()"
   ]
  },
  {
   "cell_type": "markdown",
   "id": "d69a49ef",
   "metadata": {},
   "source": [
    "---\n",
    "---"
   ]
  },
  {
   "cell_type": "markdown",
   "id": "922b5103",
   "metadata": {},
   "source": [
    "### Dropping rows"
   ]
  },
  {
   "cell_type": "code",
   "execution_count": 135,
   "id": "6799d712",
   "metadata": {},
   "outputs": [],
   "source": [
    "#  Merging \"Type of property\" and \"Subtype of property\"\n",
    "\n",
    "df[\"Property type\"] = df[\"Type of property\"] + \" - \" + df[\"Subtype of property\"]"
   ]
  },
  {
   "cell_type": "code",
   "execution_count": 136,
   "id": "d5eea76b",
   "metadata": {
    "scrolled": true
   },
   "outputs": [],
   "source": [
    "#  Dropping low-value and too strongly correlated columns \n",
    "\n",
    "df = df.drop(\n",
    "    [\n",
    "        \"Unnamed: 0\",\n",
    "        \"Security door\",\n",
    "        \"Sewer Connection\",\n",
    "        \"Access for disabled\",\n",
    "        \"Orientation of the front facade\",\n",
    "        \"Furnished\",\n",
    "        \"Type of property\",\n",
    "        \"Subtype of property\",\n",
    "        \"Surface bedroom 3\",\n",
    "        \"Surface bedroom 2\",\n",
    "        \"Surface kitchen\",\n",
    "        \"Number of toilets\",\n",
    "        \"Floor of appartment\",\n",
    "        \"Number of floors\",\n",
    "        \"Build Year\",\n",
    "        \"Entry phone\",\n",
    "        \"Elevator\",\n",
    "        \"Number of showers\",\n",
    "        \"Terrace\",\n",
    "        \"Garden\",\n",
    "    ],\n",
    "    axis=1,\n",
    ")"
   ]
  },
  {
   "cell_type": "code",
   "execution_count": 137,
   "id": "b5210f96",
   "metadata": {
    "scrolled": false
   },
   "outputs": [
    {
     "name": "stdout",
     "output_type": "stream",
     "text": [
      "Index(['Locality', 'Price', 'Number of bedrooms', 'Livable surface',\n",
      "       'Kitchen equipment', 'Number of bathrooms', 'Balcony',\n",
      "       'State of the property', 'Surface bedroom 1', 'Surface of living-room',\n",
      "       'Cellar', 'Number of facades', 'Surface terrace', 'Surface garden',\n",
      "       'Garage', 'Property type'],\n",
      "      dtype='object')\n",
      "Number of columns: 16\n"
     ]
    }
   ],
   "source": [
    "print(df.columns)\n",
    "print(\"Number of columns:\", len(df.columns))"
   ]
  },
  {
   "cell_type": "markdown",
   "id": "4b3502d6",
   "metadata": {},
   "source": [
    "### Categorical \n",
    "#### Qualitative / Nominal Data\n",
    "categories that cannot be put in any order"
   ]
  },
  {
   "cell_type": "code",
   "execution_count": 138,
   "id": "11799942",
   "metadata": {},
   "outputs": [],
   "source": [
    "nominal_data = df[[\"Locality\", \"Property type\"]]"
   ]
  },
  {
   "cell_type": "code",
   "execution_count": 139,
   "id": "0c30ffed",
   "metadata": {
    "scrolled": true
   },
   "outputs": [
    {
     "data": {
      "text/plain": [
       "1000 Brussels           319\n",
       "1050 Elsene             314\n",
       "1030 Schaarbeek         293\n",
       "8370 Blankenberge       258\n",
       "9300 Aalst              257\n",
       "                       ... \n",
       "4650 Chaineux             1\n",
       "7973 Grandglise           1\n",
       "4632 Cérexhe-Heuseux      1\n",
       "4630 Ayeneux              1\n",
       "5360 Hamois               1\n",
       "Name: Locality, Length: 899, dtype: int64"
      ]
     },
     "execution_count": 139,
     "metadata": {},
     "output_type": "execute_result"
    }
   ],
   "source": [
    "df[\"Locality\"].value_counts()"
   ]
  },
  {
   "cell_type": "code",
   "execution_count": 140,
   "id": "212fd672",
   "metadata": {
    "scrolled": true
   },
   "outputs": [
    {
     "data": {
      "text/plain": [
       "house - residence         7605\n",
       "flat - apartment          6574\n",
       "house - villa              858\n",
       "flat - ground-floor        486\n",
       "flat - duplex              447\n",
       "house - mixed-building     356\n",
       "flat - penthouse           334\n",
       "flat - studio              236\n",
       "house - master-house       129\n",
       "flat - loft                 84\n",
       "house - cottage             84\n",
       "house - bungalow            79\n",
       "flat - triplex              36\n",
       "house - chalet              25\n",
       "house - mansion             14\n",
       "Name: Property type, dtype: int64"
      ]
     },
     "execution_count": 140,
     "metadata": {},
     "output_type": "execute_result"
    }
   ],
   "source": [
    "df[\"Property type\"].value_counts()"
   ]
  },
  {
   "cell_type": "markdown",
   "id": "40b7048d",
   "metadata": {},
   "source": [
    "#### Qualitative / Ordinal \n",
    "categories that can be ordered"
   ]
  },
  {
   "cell_type": "code",
   "execution_count": 141,
   "id": "d806ac29",
   "metadata": {},
   "outputs": [],
   "source": [
    "ordinal_data = df[[\"Kitchen equipment\", \"State of the property\"]].copy()"
   ]
  },
  {
   "cell_type": "code",
   "execution_count": 142,
   "id": "fefabcb8",
   "metadata": {
    "scrolled": true
   },
   "outputs": [
    {
     "data": {
      "text/plain": [
       "Partially equipped    10171\n",
       "Super equipped         3905\n",
       "Fully equipped         2745\n",
       "Not equipped            526\n",
       "Name: Kitchen equipment, dtype: int64"
      ]
     },
     "execution_count": 142,
     "metadata": {},
     "output_type": "execute_result"
    }
   ],
   "source": [
    "ordinal_data[\"Kitchen equipment\"].value_counts()"
   ]
  },
  {
   "cell_type": "markdown",
   "id": "0fabfa6b",
   "metadata": {},
   "source": [
    "#### Interpretation: \n",
    "\n",
    "- Super equipped = 4\n",
    "- Fully equipped = 3\n",
    "- Partially equipped = 2\n",
    "- Not equipped = 1"
   ]
  },
  {
   "cell_type": "code",
   "execution_count": 143,
   "id": "e8c37708",
   "metadata": {
    "scrolled": true
   },
   "outputs": [],
   "source": [
    "ordinal_data[\"Kitchen equipment\"] = ordinal_data[\"Kitchen equipment\"].apply(ordinal)"
   ]
  },
  {
   "cell_type": "code",
   "execution_count": 144,
   "id": "23543252",
   "metadata": {},
   "outputs": [],
   "source": [
    "df[\"Kitchen equipment\"] = ordinal_data[\"Kitchen equipment\"]"
   ]
  },
  {
   "cell_type": "code",
   "execution_count": 145,
   "id": "62277fd5",
   "metadata": {},
   "outputs": [
    {
     "data": {
      "text/plain": [
       "2    10171\n",
       "4     3905\n",
       "3     2745\n",
       "1      526\n",
       "Name: Kitchen equipment, dtype: int64"
      ]
     },
     "execution_count": 145,
     "metadata": {},
     "output_type": "execute_result"
    }
   ],
   "source": [
    "df[\"Kitchen equipment\"].value_counts()"
   ]
  },
  {
   "cell_type": "code",
   "execution_count": 146,
   "id": "a17d8dc9",
   "metadata": {
    "scrolled": false
   },
   "outputs": [
    {
     "data": {
      "text/plain": [
       "Normal             7884\n",
       "New                4550\n",
       "Excellent          2561\n",
       "To be renovated    1975\n",
       "Fully renovated     377\n",
       "Name: State of the property, dtype: int64"
      ]
     },
     "execution_count": 146,
     "metadata": {},
     "output_type": "execute_result"
    }
   ],
   "source": [
    "ordinal_data[\"State of the property\"].value_counts()"
   ]
  },
  {
   "cell_type": "markdown",
   "id": "50720a47",
   "metadata": {},
   "source": [
    "#### Interpretation: \n",
    " - New = 5\n",
    " - Fully renovated = 4\n",
    " - Excellent = 3\n",
    " - Normal = 2\n",
    " - To be renovated = 1 "
   ]
  },
  {
   "cell_type": "code",
   "execution_count": 147,
   "id": "0e6ee64d",
   "metadata": {},
   "outputs": [],
   "source": [
    "ordinal_data[\"State of the property\"] = ordinal_data[\"State of the property\"].apply(ordinal)"
   ]
  },
  {
   "cell_type": "code",
   "execution_count": 148,
   "id": "289e8b32",
   "metadata": {},
   "outputs": [],
   "source": [
    "df[\"State of the property\"] = ordinal_data[\"State of the property\"]"
   ]
  },
  {
   "cell_type": "code",
   "execution_count": 149,
   "id": "f1143bec",
   "metadata": {},
   "outputs": [
    {
     "data": {
      "text/plain": [
       "2    7884\n",
       "5    4550\n",
       "3    2561\n",
       "1    1975\n",
       "4     377\n",
       "Name: State of the property, dtype: int64"
      ]
     },
     "execution_count": 149,
     "metadata": {},
     "output_type": "execute_result"
    }
   ],
   "source": [
    "df[\"State of the property\"].value_counts()"
   ]
  },
  {
   "cell_type": "markdown",
   "id": "d307c513",
   "metadata": {},
   "source": [
    "### Numerical \n",
    "#### Discrete & Continuous"
   ]
  },
  {
   "cell_type": "code",
   "execution_count": 150,
   "id": "15a4da89",
   "metadata": {},
   "outputs": [],
   "source": [
    "df = df.rename(columns={\"Surface bedroom 1\": \"Surface master bedroom\"})"
   ]
  },
  {
   "cell_type": "code",
   "execution_count": 151,
   "id": "bab010e7",
   "metadata": {},
   "outputs": [],
   "source": [
    "numerical_data = df[\n",
    "    [\n",
    "        \"Price\",\n",
    "        \"Surface master bedroom\",\n",
    "        \"Number of bedrooms\",\n",
    "        \"Livable surface\",\n",
    "        \"Number of bathrooms\",\n",
    "        \"Balcony\",\n",
    "        \"Surface of living-room\",\n",
    "        \"Number of facades\",\n",
    "        \"Surface terrace\",\n",
    "        \"Surface garden\",\n",
    "        \"Garage\",\n",
    "        \n",
    "    ]\n",
    "]"
   ]
  },
  {
   "cell_type": "markdown",
   "id": "f67df44c",
   "metadata": {},
   "source": [
    "---\n",
    "---"
   ]
  },
  {
   "cell_type": "markdown",
   "id": "11347e06",
   "metadata": {},
   "source": [
    "### Null value"
   ]
  },
  {
   "cell_type": "code",
   "execution_count": 188,
   "id": "83a55e39",
   "metadata": {},
   "outputs": [
    {
     "name": "stdout",
     "output_type": "stream",
     "text": [
      "<class 'pandas.core.frame.DataFrame'>\n",
      "Int64Index: 17345 entries, 0 to 17346\n",
      "Data columns (total 16 columns):\n",
      " #   Column                  Non-Null Count  Dtype  \n",
      "---  ------                  --------------  -----  \n",
      " 0   Locality                17345 non-null  object \n",
      " 1   Price                   17345 non-null  int64  \n",
      " 2   Number of bedrooms      17345 non-null  int64  \n",
      " 3   Livable surface         15418 non-null  float64\n",
      " 4   Kitchen equipment       17345 non-null  int64  \n",
      " 5   Number of bathrooms     17345 non-null  int64  \n",
      " 6   Balcony                 17345 non-null  int64  \n",
      " 7   State of the property   17345 non-null  int64  \n",
      " 8   Surface master bedroom  15590 non-null  object \n",
      " 9   Surface of living-room  15623 non-null  object \n",
      " 10  Cellar                  17345 non-null  int64  \n",
      " 11  Number of facades       17345 non-null  int64  \n",
      " 12  Surface terrace         17345 non-null  int64  \n",
      " 13  Surface garden          17345 non-null  int64  \n",
      " 14  Garage                  17345 non-null  int64  \n",
      " 15  Property type           17345 non-null  object \n",
      "dtypes: float64(1), int64(11), object(4)\n",
      "memory usage: 2.8+ MB\n"
     ]
    }
   ],
   "source": [
    "df.info()"
   ]
  },
  {
   "cell_type": "code",
   "execution_count": 153,
   "id": "6d1489a5",
   "metadata": {},
   "outputs": [],
   "source": [
    "#  Duplicate the column with empty values into a new dataframe as a safety net\n",
    "null_value = df[\n",
    "    [\n",
    "        \"Number of bedrooms\",\n",
    "        \"Livable surface\",\n",
    "        \"Surface master bedroom\",\n",
    "        \"Surface of living-room\",\n",
    "        \"Surface terrace\",\n",
    "        \"Surface garden\",\n",
    "    ]\n",
    "].copy()"
   ]
  },
  {
   "cell_type": "markdown",
   "id": "05431e41",
   "metadata": {},
   "source": [
    "---"
   ]
  },
  {
   "cell_type": "code",
   "execution_count": 176,
   "id": "e8e36f9f",
   "metadata": {
    "scrolled": false
   },
   "outputs": [
    {
     "data": {
      "text/plain": [
       "2     5794\n",
       "3     5671\n",
       "1     2358\n",
       "4     2181\n",
       "5      780\n",
       "6      324\n",
       "7      103\n",
       "8       54\n",
       "9       22\n",
       "10      17\n",
       "12      12\n",
       "11      10\n",
       "14       8\n",
       "16       4\n",
       "20       3\n",
       "13       1\n",
       "23       1\n",
       "22       1\n",
       "15       1\n",
       "Name: Number of bedrooms, dtype: int64"
      ]
     },
     "execution_count": 176,
     "metadata": {},
     "output_type": "execute_result"
    }
   ],
   "source": [
    "df[\"Number of bedrooms\"].value_counts()"
   ]
  },
  {
   "cell_type": "code",
   "execution_count": 168,
   "id": "1da6b4ff",
   "metadata": {
    "scrolled": true
   },
   "outputs": [],
   "source": [
    "null_value[\"Number of bedrooms\"] = null_value[\"Number of bedrooms\"].apply(empty_as_one)"
   ]
  },
  {
   "cell_type": "code",
   "execution_count": 169,
   "id": "25c74260",
   "metadata": {},
   "outputs": [],
   "source": [
    "df[\"Number of bedrooms\"] = null_value[\"Number of bedrooms\"]"
   ]
  },
  {
   "cell_type": "code",
   "execution_count": 175,
   "id": "c62b959c",
   "metadata": {
    "scrolled": false
   },
   "outputs": [
    {
     "data": {
      "text/html": [
       "<div>\n",
       "<style scoped>\n",
       "    .dataframe tbody tr th:only-of-type {\n",
       "        vertical-align: middle;\n",
       "    }\n",
       "\n",
       "    .dataframe tbody tr th {\n",
       "        vertical-align: top;\n",
       "    }\n",
       "\n",
       "    .dataframe thead th {\n",
       "        text-align: right;\n",
       "    }\n",
       "</style>\n",
       "<table border=\"1\" class=\"dataframe\">\n",
       "  <thead>\n",
       "    <tr style=\"text-align: right;\">\n",
       "      <th></th>\n",
       "      <th>Locality</th>\n",
       "      <th>Price</th>\n",
       "      <th>Number of bedrooms</th>\n",
       "      <th>Livable surface</th>\n",
       "      <th>Kitchen equipment</th>\n",
       "      <th>Number of bathrooms</th>\n",
       "      <th>Balcony</th>\n",
       "      <th>State of the property</th>\n",
       "      <th>Surface master bedroom</th>\n",
       "      <th>Surface of living-room</th>\n",
       "      <th>Cellar</th>\n",
       "      <th>Number of facades</th>\n",
       "      <th>Surface terrace</th>\n",
       "      <th>Surface garden</th>\n",
       "      <th>Garage</th>\n",
       "      <th>Property type</th>\n",
       "    </tr>\n",
       "  </thead>\n",
       "  <tbody>\n",
       "  </tbody>\n",
       "</table>\n",
       "</div>"
      ],
      "text/plain": [
       "Empty DataFrame\n",
       "Columns: [Locality, Price, Number of bedrooms, Livable surface, Kitchen equipment, Number of bathrooms, Balcony, State of the property, Surface master bedroom, Surface of living-room, Cellar, Number of facades, Surface terrace, Surface garden, Garage, Property type]\n",
       "Index: []"
      ]
     },
     "execution_count": 175,
     "metadata": {},
     "output_type": "execute_result"
    }
   ],
   "source": [
    "df_filtered = df[df['Number of bedrooms'] >= 40]\n",
    "df_filtered.head()"
   ]
  },
  {
   "cell_type": "markdown",
   "id": "343b561a",
   "metadata": {},
   "source": [
    "---"
   ]
  },
  {
   "cell_type": "code",
   "execution_count": 181,
   "id": "f6132c82",
   "metadata": {
    "scrolled": true
   },
   "outputs": [
    {
     "data": {
      "text/plain": [
       "0       10719\n",
       "10        378\n",
       "20        365\n",
       "8         339\n",
       "15        317\n",
       "        ...  \n",
       "112         1\n",
       "340         1\n",
       "1050        1\n",
       "135         1\n",
       "537         1\n",
       "Name: Surface terrace, Length: 146, dtype: int64"
      ]
     },
     "execution_count": 181,
     "metadata": {},
     "output_type": "execute_result"
    }
   ],
   "source": [
    "null_value[\"Surface terrace\"].value_counts()"
   ]
  },
  {
   "cell_type": "code",
   "execution_count": 180,
   "id": "269e5c65",
   "metadata": {},
   "outputs": [],
   "source": [
    "null_value[\"Surface terrace\"] = null_value[\"Surface terrace\"].apply(empty_as_zero)"
   ]
  },
  {
   "cell_type": "code",
   "execution_count": 182,
   "id": "fffadba1",
   "metadata": {},
   "outputs": [],
   "source": [
    "df[\"Surface terrace\"] = null_value[\"Surface terrace\"]"
   ]
  },
  {
   "cell_type": "code",
   "execution_count": 186,
   "id": "1a27dfc6",
   "metadata": {},
   "outputs": [
    {
     "data": {
      "text/plain": [
       "0       14647\n",
       "100        71\n",
       "50         67\n",
       "200        62\n",
       "40         49\n",
       "        ...  \n",
       "372         1\n",
       "453         1\n",
       "381         1\n",
       "368         1\n",
       "2940        1\n",
       "Name: Surface garden, Length: 678, dtype: int64"
      ]
     },
     "execution_count": 186,
     "metadata": {},
     "output_type": "execute_result"
    }
   ],
   "source": [
    "null_value[\"Surface garden\"].value_counts()"
   ]
  },
  {
   "cell_type": "code",
   "execution_count": 185,
   "id": "78d5c895",
   "metadata": {},
   "outputs": [],
   "source": [
    "null_value[\"Surface garden\"] = null_value[\"Surface garden\"].apply(empty_as_zero)"
   ]
  },
  {
   "cell_type": "code",
   "execution_count": 187,
   "id": "e96cfc6c",
   "metadata": {},
   "outputs": [],
   "source": [
    "df[\"Surface garden\"] = null_value[\"Surface garden\"]"
   ]
  },
  {
   "cell_type": "markdown",
   "id": "261e6b04",
   "metadata": {},
   "source": [
    "--- "
   ]
  },
  {
   "cell_type": "code",
   "execution_count": null,
   "id": "3020f39f",
   "metadata": {},
   "outputs": [],
   "source": []
  }
 ],
 "metadata": {
  "kernelspec": {
   "display_name": "Python 3 (ipykernel)",
   "language": "python",
   "name": "python3"
  },
  "language_info": {
   "codemirror_mode": {
    "name": "ipython",
    "version": 3
   },
   "file_extension": ".py",
   "mimetype": "text/x-python",
   "name": "python",
   "nbconvert_exporter": "python",
   "pygments_lexer": "ipython3",
   "version": "3.9.7"
  }
 },
 "nbformat": 4,
 "nbformat_minor": 5
}
